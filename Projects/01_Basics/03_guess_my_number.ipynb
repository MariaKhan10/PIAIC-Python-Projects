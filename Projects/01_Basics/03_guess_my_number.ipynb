{
 "cells": [
  {
   "cell_type": "markdown",
   "metadata": {},
   "source": [
    "03_guess_my_number\n",
    "\n",
    "Problem Statement\n",
    "Guess My Number\n",
    "\n",
    "I am thinking of a number between 0 and 99... Enter a guess: 50 Your guess is too high\n",
    "\n",
    "Enter a new number: 25 Your guess is too low\n",
    "\n",
    "Enter a new number: 40 Your guess is too low\n",
    "\n",
    "Enter a new number: 45 Your guess is too low\n",
    "\n",
    "Enter a new number: 48 Congrats! The number was: 48"
   ]
  },
  {
   "cell_type": "code",
   "execution_count": 3,
   "metadata": {},
   "outputs": [
    {
     "name": "stdout",
     "output_type": "stream",
     "text": [
      "Attempts left:3\n",
      "Too low\n",
      "Attempts left:2\n",
      "Too low\n",
      "Attempts left:1\n",
      "Too low\n",
      "Attempts left:0\n",
      "Game over\n"
     ]
    }
   ],
   "source": [
    "# Let Computer generate and save a number using random\n",
    "import random\n",
    "randomgeneratednumber : int  = random.randint(1,10)\n",
    "\n",
    "allowed_attempts : int = 3\n",
    "user_attempts : int = 0\n",
    "\n",
    "# while condition with breaak statement\n",
    "\n",
    "while True:\n",
    "  print(f\"Attempts left:{allowed_attempts - user_attempts}\")\n",
    "  if(user_attempts == allowed_attempts):\n",
    "   print(\"Game over\")\n",
    "   break\n",
    "  \n",
    "# Get userinput\n",
    "\n",
    "  userinput : int = int(input(\"Enter a number between 0 and 5 : \"))\n",
    "  user_attempts += 1\n",
    "  \n",
    "\n",
    "  if userinput == randomgeneratednumber:\n",
    "    print(\"Congrats you guessed the number right..!!\",randomgeneratednumber)\n",
    "    break\n",
    "  elif userinput > randomgeneratednumber:\n",
    "    print(\"Too high\")\n",
    "  elif userinput < randomgeneratednumber:\n",
    "    print(\"Too low\")    \n",
    "  else:\n",
    "    print(\"Invalid input\") "
   ]
  }
 ],
 "metadata": {
  "kernelspec": {
   "display_name": "python12",
   "language": "python",
   "name": "python3"
  },
  "language_info": {
   "codemirror_mode": {
    "name": "ipython",
    "version": 3
   },
   "file_extension": ".py",
   "mimetype": "text/x-python",
   "name": "python",
   "nbconvert_exporter": "python",
   "pygments_lexer": "ipython3",
   "version": "3.12.0"
  }
 },
 "nbformat": 4,
 "nbformat_minor": 2
}
