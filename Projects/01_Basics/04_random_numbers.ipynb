{
 "cells": [
  {
   "cell_type": "markdown",
   "metadata": {},
   "source": [
    "04_random_numbers\n",
    "\n",
    "Problem Statement\n",
    "Print 10 random numbers in the range 1 to 100.\n",
    "\n",
    "Here is an example run:\n",
    "\n",
    "45 79 61 47 52 10 16 83 19 12\n",
    "\n",
    "Each time you run your program you should get different numbers\n",
    "\n",
    "81 76 70 1 27 63 96 100 32 92"
   ]
  },
  {
   "cell_type": "code",
   "execution_count": 1,
   "metadata": {},
   "outputs": [
    {
     "name": "stdout",
     "output_type": "stream",
     "text": [
      "16 6 44 27 76 44 5 73 41 45 "
     ]
    }
   ],
   "source": [
    "import random\n",
    "MinNumber : int = 1\n",
    "Maxnumber : int = 101\n",
    "RandomNumber : int = 10\n",
    "\n",
    "for i in range(RandomNumber):\n",
    "    print(random.randint(MinNumber,Maxnumber), end = \" \" )"
   ]
  },
  {
   "cell_type": "code",
   "execution_count": 10,
   "metadata": {},
   "outputs": [
    {
     "name": "stdout",
     "output_type": "stream",
     "text": [
      "67 4 1 43 44 11 88 17 62 58\n"
     ]
    }
   ],
   "source": [
    "import numpy as np \n",
    "\n",
    "MinNumber : int = 1\n",
    "Maxnumber : int = 101\n",
    "RandomNumber : int = 10\n",
    "\n",
    "numberList = np.random.randint(MinNumber,Maxnumber,RandomNumber)\n",
    "print(*numberList)"
   ]
  },
  {
   "cell_type": "code",
   "execution_count": null,
   "metadata": {},
   "outputs": [
    {
     "name": "stdout",
     "output_type": "stream",
     "text": [
      "72\n"
     ]
    }
   ],
   "source": [
    "import random\n",
    "MinNumber : int = 1\n",
    "Maxnumber : int = 101\n",
    "RandomNumber : int = 10\n",
    "\n",
    "number_list = []\n",
    "\n",
    "for i in range(RandomNumber):\n",
    "    rand_number = random.randint(MinNumber,Maxnumber)\n",
    "    number_list.append(rand_number)\n",
    "    # print(rand_number, end= \" \")\n",
    "\n",
    "print(*number_list)"
   ]
  }
 ],
 "metadata": {
  "kernelspec": {
   "display_name": "python12",
   "language": "python",
   "name": "python3"
  },
  "language_info": {
   "codemirror_mode": {
    "name": "ipython",
    "version": 3
   },
   "file_extension": ".py",
   "mimetype": "text/x-python",
   "name": "python",
   "nbconvert_exporter": "python",
   "pygments_lexer": "ipython3",
   "version": "3.12.0"
  }
 },
 "nbformat": 4,
 "nbformat_minor": 2
}
