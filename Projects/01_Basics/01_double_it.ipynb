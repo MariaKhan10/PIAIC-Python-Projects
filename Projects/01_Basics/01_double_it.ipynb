{
 "cells": [
  {
   "cell_type": "markdown",
   "metadata": {},
   "source": [
    "01_double_it\n",
    "\n",
    "Problem Statement\n",
    "Write a program that asks a user to enter a number. Your program will then double that number and print out the result. It will repeat that process until the value is 100 or greater.\n",
    "\n",
    "For example if the user enters the number 2 you would then print:\n",
    "\n",
    "4 8 16 32 64 128"
   ]
  },
  {
   "cell_type": "code",
   "execution_count": 8,
   "metadata": {},
   "outputs": [
    {
     "name": "stdout",
     "output_type": "stream",
     "text": [
      "4 8 16 32 64 128 "
     ]
    }
   ],
   "source": [
    "\n",
    "# Function \n",
    "def double_it():\n",
    "    # Get User Input & Type Casting\n",
    "    user_input = int(input(\"Enter a number\"))     \n",
    "    while user_input <= 100:                     # while loop\n",
    "        user_input = user_input * 2\n",
    "        print(user_input, end = \" \")\n",
    "        \n",
    "double_it() "
   ]
  }
 ],
 "metadata": {
  "kernelspec": {
   "display_name": "python12",
   "language": "python",
   "name": "python3"
  },
  "language_info": {
   "codemirror_mode": {
    "name": "ipython",
    "version": 3
   },
   "file_extension": ".py",
   "mimetype": "text/x-python",
   "name": "python",
   "nbconvert_exporter": "python",
   "pygments_lexer": "ipython3",
   "version": "3.12.0"
  }
 },
 "nbformat": 4,
 "nbformat_minor": 2
}
