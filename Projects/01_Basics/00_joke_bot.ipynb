{
 "cells": [
  {
   "cell_type": "markdown",
   "metadata": {},
   "source": [
    "00_joke_bot\n",
    "\n",
    "Problem Statement\n",
    "Write a simple joke bot. The bot starts by asking the user what they want. However, your program will only respond to one response: Joke.\n",
    "\n",
    "If the user enters Joke then we will print out a single joke. Each time the joke is always the same:"
   ]
  },
  {
   "cell_type": "code",
   "execution_count": 1,
   "metadata": {},
   "outputs": [
    {
     "name": "stdout",
     "output_type": "stream",
     "text": [
      "joke\n",
      "A sandwich tried to get a reservation at a restaurant, but the waiter said they don’t serve food there.\n"
     ]
    }
   ],
   "source": [
    "# Constants\n",
    "\n",
    "PROMPT : str = \"What do you want ? \"\n",
    "JOKE : str = \"A sandwich tried to get a reservation at a restaurant, but the waiter said they don’t serve food there.\"\n",
    "\n",
    "# Function\n",
    "def joke_bot():\n",
    "   user_input = input(PROMPT)     # Get User Input\n",
    "   print(user_input)\n",
    "\n",
    "   if user_input.lower() == \"joke\":\n",
    "     print(JOKE)\n",
    "   else:\n",
    "     print(\"Sorry i only tell jokes\")   \n",
    "\n",
    "joke_bot() "
   ]
  }
 ],
 "metadata": {
  "kernelspec": {
   "display_name": "python12",
   "language": "python",
   "name": "python3"
  },
  "language_info": {
   "codemirror_mode": {
    "name": "ipython",
    "version": 3
   },
   "file_extension": ".py",
   "mimetype": "text/x-python",
   "name": "python",
   "nbconvert_exporter": "python",
   "pygments_lexer": "ipython3",
   "version": "3.12.0"
  }
 },
 "nbformat": 4,
 "nbformat_minor": 2
}
